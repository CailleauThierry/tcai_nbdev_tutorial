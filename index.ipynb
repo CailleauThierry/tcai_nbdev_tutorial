{
 "cells": [
  {
   "cell_type": "code",
   "execution_count": null,
   "metadata": {},
   "outputs": [],
   "source": [
    "#hide\n",
    "from tcai_nbdev_tutorial.core import *"
   ]
  },
  {
   "cell_type": "markdown",
   "metadata": {},
   "source": [
    "# tcai_nbdev_tutorial\n",
    "\n",
    "> This index.ipynb is responsible for the documentation home-page and the Readme.md"
   ]
  },
  {
   "cell_type": "markdown",
   "metadata": {},
   "source": [
    "This file will become your README and also the index of your documentation."
   ]
  },
  {
   "cell_type": "markdown",
   "metadata": {},
   "source": [
    "## Install"
   ]
  },
  {
   "cell_type": "markdown",
   "metadata": {},
   "source": [
    "`pip install your_project_name`"
   ]
  },
  {
   "cell_type": "markdown",
   "metadata": {},
   "source": [
    "## How to use"
   ]
  },
  {
   "cell_type": "markdown",
   "metadata": {},
   "source": [
    "Fill me in please! Don't forget code examples:"
   ]
  },
  {
   "cell_type": "code",
   "execution_count": null,
   "metadata": {},
   "outputs": [
    {
     "data": {
      "text/plain": [
       "2"
      ]
     },
     "execution_count": null,
     "metadata": {},
     "output_type": "execute_result"
    }
   ],
   "source": [
    "1+1"
   ]
  },
  {
   "cell_type": "markdown",
   "metadata": {},
   "source": [
    "# My notes on 04_10_2021\n",
    "--------------------------\n",
    "After editing setting.ini, since you clones the template I do not think you need to run the 'nbdev_install_git_hooks' but I thing you still need to run:\n",
    "\n",
    "'nbdev_fix_merge filename.ipynb'\n",
    "\n",
    "Unless of course 'filename.ipynb' needs to be replcaed with the name of the .ipynb file you need to fix...\n",
    "\n",
    "After eidting index.ipynb you want to:\n",
    "- run 'nbdev_build_lib' > to create the python module i.e. the .py code\n",
    "- run 'nbdev_build_docs' > to build the documentation i.e create the .html\n",
    "\n",
    "following the instructions from 'https://nbdev.fast.ai/tutorial.html' getting those errors in GutHub:\n",
    "\n",
    "\n",
    "Getting the CI error\n",
    "\n",
    " 1\n",
    " build\n",
    "GitHub Pages\n",
    "build\n",
    "failed 14 hours ago in 29s\n",
    "Search logs\n",
    "3s\n",
    "2s\n",
    "0s\n",
    "20s\n",
    "0s\n",
    "1s\n",
    "0s\n",
    "3s\n",
    "Run nbdev_test_nbs\n",
    "testing /home/runner/work/tcai_nbdev_tutorial/tcai_nbdev_tutorial/index.ipynb\n",
    "Error in /home/runner/work/tcai_nbdev_tutorial/tcai_nbdev_tutorial/index.ipynb:\n",
    "An error occurred while executing the following cell:\n",
    "------------------\n",
    "#hide\n",
    "from your_lib.core import *\n",
    "------------------\n",
    "\n",
    "---------------------------------------------------------------------------\n",
    "ModuleNotFoundError                       Traceback (most recent call last)\n",
    "<ipython-input-1-b21722cad84c> in <module>\n",
    "      1 #hide\n",
    "----> 2 from your_lib.core import *\n",
    "\n",
    "ModuleNotFoundError: No module named 'your_lib'\n",
    "**ModuleNotFoundError: No module named 'your_lib'**\n",
    " "
   ]
  }
 ],
 "metadata": {
  "kernelspec": {
   "display_name": "Python 3",
   "language": "python",
   "name": "python3"
  }
 },
 "nbformat": 4,
 "nbformat_minor": 2
}
